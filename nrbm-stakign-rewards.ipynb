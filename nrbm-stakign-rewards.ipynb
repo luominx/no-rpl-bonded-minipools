{
 "cells": [
  {
   "cell_type": "code",
   "execution_count": 1,
   "metadata": {},
   "outputs": [],
   "source": [
    "import plotly.graph_objects as go\n",
    "import kaleido\n",
    "import numpy as np"
   ]
  },
  {
   "cell_type": "code",
   "execution_count": 2,
   "metadata": {},
   "outputs": [],
   "source": [
    "# Function to calculate APR\n",
    "def calculate_apr(ratio_normal_staked, num_minipools, no_commission_dict, nrbms_commission):\n",
    "    if num_minipools == 1:\n",
    "        return 100  # 32 ETH validator always stays at 100% APR\n",
    "\n",
    "    no_commission = no_commission_dict[num_minipools]\n",
    "    reward_from_reth_holders = (num_minipools * (100 - (100/num_minipools))/(100)*no_commission)\n",
    "    \n",
    "    # Avoiding division by zero in case ratio_normal_staked is 1\n",
    "    if ratio_normal_staked == 1:\n",
    "        reward_from_nrbms = 0\n",
    "    else:\n",
    "        reward_from_nrbms = (nrbms_commission/(1-ratio_normal_staked)) - nrbms_commission\n",
    "\n",
    "    return 100 + reward_from_reth_holders + reward_from_nrbms\n"
   ]
  },
  {
   "cell_type": "code",
   "execution_count": 3,
   "metadata": {},
   "outputs": [
    {
     "data": {
      "application/vnd.plotly.v1+json": {
       "config": {
        "plotlyServerURL": "https://plot.ly"
       },
       "data": [
        {
         "line": {
          "width": 2
         },
         "mode": "lines+markers",
         "name": "2 minipools",
         "type": "scatter",
         "x": [
          0,
          0.019795918367346937,
          0.039591836734693873,
          0.05938775510204081,
          0.07918367346938775,
          0.09897959183673469,
          0.11877551020408161,
          0.13857142857142857,
          0.1583673469387755,
          0.17816326530612242,
          0.19795918367346937,
          0.2177551020408163,
          0.23755102040816323,
          0.2573469387755102,
          0.27714285714285714,
          0.29693877551020403,
          0.316734693877551,
          0.33653061224489794,
          0.35632653061224484,
          0.3761224489795918,
          0.39591836734693875,
          0.41571428571428565,
          0.4355102040816326,
          0.45530612244897956,
          0.47510204081632645,
          0.4948979591836734,
          0.5146938775510204,
          0.5344897959183673,
          0.5542857142857143,
          0.5740816326530611,
          0.5938775510204081,
          0.613673469387755,
          0.633469387755102,
          0.6532653061224489,
          0.6730612244897959,
          0.6928571428571428,
          0.7126530612244897,
          0.7324489795918366,
          0.7522448979591836,
          0.7720408163265305,
          0.7918367346938775,
          0.8116326530612245,
          0.8314285714285713,
          0.8512244897959182,
          0.8710204081632652,
          0.8908163265306122,
          0.9106122448979591,
          0.9304081632653061,
          0.9502040816326529,
          0.97
         ],
         "y": [
          115,
          115.10097855506974,
          115.20611984700382,
          115.31568669993491,
          115.42996453900709,
          115.54926387315969,
          115.6739231125521,
          115.80431177446103,
          115.94083414161008,
          116.08393344921778,
          116.23409669211196,
          116.3918601617532,
          116.55781584582441,
          116.73261885133279,
          116.91699604743083,
          117.11175616835995,
          117.31780167264039,
          117.53614272531529,
          117.76791376030438,
          118.01439319594374,
          118.27702702702703,
          118.55745721271394,
          118.85755603759942,
          119.17946796553016,
          119.52566096423017,
          119.8989898989899,
          120.30277544154751,
          120.74090311266988,
          121.21794871794872,
          121.73933876377575,
          122.31155778894473,
          122.94241944004226,
          123.64142538975501,
          124.42024720423778,
          125.29338327091136,
          126.27906976744185,
          127.40056818181817,
          128.6880244088482,
          130.1812191103789,
          131.93375111906892,
          134.01960784313724,
          136.5438786565547,
          139.66101694915253,
          143.60768175582987,
          148.7658227848101,
          155.79439252336445,
          165.9360730593607,
          181.84750733137824,
          210.40983606557347,
          276.6666666666665
         ]
        },
        {
         "line": {
          "width": 2
         },
         "mode": "lines+markers",
         "name": "4 minipools",
         "type": "scatter",
         "x": [
          0,
          0.019795918367346937,
          0.039591836734693873,
          0.05938775510204081,
          0.07918367346938775,
          0.09897959183673469,
          0.11877551020408161,
          0.13857142857142857,
          0.1583673469387755,
          0.17816326530612242,
          0.19795918367346937,
          0.2177551020408163,
          0.23755102040816323,
          0.2573469387755102,
          0.27714285714285714,
          0.29693877551020403,
          0.316734693877551,
          0.33653061224489794,
          0.35632653061224484,
          0.3761224489795918,
          0.39591836734693875,
          0.41571428571428565,
          0.4355102040816326,
          0.45530612244897956,
          0.47510204081632645,
          0.4948979591836734,
          0.5146938775510204,
          0.5344897959183673,
          0.5542857142857143,
          0.5740816326530611,
          0.5938775510204081,
          0.613673469387755,
          0.633469387755102,
          0.6532653061224489,
          0.6730612244897959,
          0.6928571428571428,
          0.7126530612244897,
          0.7324489795918366,
          0.7522448979591836,
          0.7720408163265305,
          0.7918367346938775,
          0.8116326530612245,
          0.8314285714285713,
          0.8512244897959182,
          0.8710204081632652,
          0.8908163265306122,
          0.9106122448979591,
          0.9304081632653061,
          0.9502040816326529,
          0.97
         ],
         "y": [
          142,
          142.10097855506976,
          142.20611984700383,
          142.3156866999349,
          142.4299645390071,
          142.54926387315967,
          142.6739231125521,
          142.80431177446104,
          142.94083414161008,
          143.08393344921777,
          143.23409669211196,
          143.3918601617532,
          143.55781584582442,
          143.73261885133277,
          143.91699604743084,
          144.11175616835993,
          144.31780167264037,
          144.5361427253153,
          144.76791376030437,
          145.01439319594374,
          145.27702702702703,
          145.55745721271393,
          145.8575560375994,
          146.17946796553016,
          146.52566096423016,
          146.8989898989899,
          147.3027754415475,
          147.74090311266988,
          148.21794871794873,
          148.73933876377575,
          149.31155778894473,
          149.94241944004227,
          150.641425389755,
          151.4202472042378,
          152.29338327091136,
          153.27906976744185,
          154.4005681818182,
          155.6880244088482,
          157.1812191103789,
          158.93375111906892,
          161.01960784313724,
          163.5438786565547,
          166.66101694915253,
          170.60768175582987,
          175.7658227848101,
          182.79439252336445,
          192.9360730593607,
          208.84750733137824,
          237.40983606557347,
          303.6666666666665
         ]
        },
        {
         "line": {
          "width": 2
         },
         "mode": "lines+markers",
         "name": "8 minipools",
         "type": "scatter",
         "x": [
          0,
          0.019795918367346937,
          0.039591836734693873,
          0.05938775510204081,
          0.07918367346938775,
          0.09897959183673469,
          0.11877551020408161,
          0.13857142857142857,
          0.1583673469387755,
          0.17816326530612242,
          0.19795918367346937,
          0.2177551020408163,
          0.23755102040816323,
          0.2573469387755102,
          0.27714285714285714,
          0.29693877551020403,
          0.316734693877551,
          0.33653061224489794,
          0.35632653061224484,
          0.3761224489795918,
          0.39591836734693875,
          0.41571428571428565,
          0.4355102040816326,
          0.45530612244897956,
          0.47510204081632645,
          0.4948979591836734,
          0.5146938775510204,
          0.5344897959183673,
          0.5542857142857143,
          0.5740816326530611,
          0.5938775510204081,
          0.613673469387755,
          0.633469387755102,
          0.6532653061224489,
          0.6730612244897959,
          0.6928571428571428,
          0.7126530612244897,
          0.7324489795918366,
          0.7522448979591836,
          0.7720408163265305,
          0.7918367346938775,
          0.8116326530612245,
          0.8314285714285713,
          0.8512244897959182,
          0.8710204081632652,
          0.8908163265306122,
          0.9106122448979591,
          0.9304081632653061,
          0.9502040816326529,
          0.97
         ],
         "y": [
          191,
          191.10097855506976,
          191.20611984700383,
          191.3156866999349,
          191.4299645390071,
          191.54926387315967,
          191.6739231125521,
          191.80431177446104,
          191.94083414161008,
          192.08393344921777,
          192.23409669211196,
          192.3918601617532,
          192.55781584582442,
          192.73261885133277,
          192.91699604743084,
          193.11175616835993,
          193.31780167264037,
          193.5361427253153,
          193.76791376030437,
          194.01439319594374,
          194.27702702702703,
          194.55745721271393,
          194.8575560375994,
          195.17946796553016,
          195.52566096423016,
          195.8989898989899,
          196.3027754415475,
          196.74090311266988,
          197.21794871794873,
          197.73933876377575,
          198.31155778894473,
          198.94241944004227,
          199.641425389755,
          200.4202472042378,
          201.29338327091136,
          202.27906976744185,
          203.4005681818182,
          204.6880244088482,
          206.1812191103789,
          207.93375111906892,
          210.01960784313724,
          212.5438786565547,
          215.66101694915253,
          219.60768175582987,
          224.7658227848101,
          231.79439252336445,
          241.9360730593607,
          257.8475073313782,
          286.4098360655735,
          352.6666666666665
         ]
        },
        {
         "line": {
          "width": 2
         },
         "mode": "lines+markers",
         "name": "16 minipools",
         "type": "scatter",
         "x": [
          0,
          0.019795918367346937,
          0.039591836734693873,
          0.05938775510204081,
          0.07918367346938775,
          0.09897959183673469,
          0.11877551020408161,
          0.13857142857142857,
          0.1583673469387755,
          0.17816326530612242,
          0.19795918367346937,
          0.2177551020408163,
          0.23755102040816323,
          0.2573469387755102,
          0.27714285714285714,
          0.29693877551020403,
          0.316734693877551,
          0.33653061224489794,
          0.35632653061224484,
          0.3761224489795918,
          0.39591836734693875,
          0.41571428571428565,
          0.4355102040816326,
          0.45530612244897956,
          0.47510204081632645,
          0.4948979591836734,
          0.5146938775510204,
          0.5344897959183673,
          0.5542857142857143,
          0.5740816326530611,
          0.5938775510204081,
          0.613673469387755,
          0.633469387755102,
          0.6532653061224489,
          0.6730612244897959,
          0.6928571428571428,
          0.7126530612244897,
          0.7324489795918366,
          0.7522448979591836,
          0.7720408163265305,
          0.7918367346938775,
          0.8116326530612245,
          0.8314285714285713,
          0.8512244897959182,
          0.8710204081632652,
          0.8908163265306122,
          0.9106122448979591,
          0.9304081632653061,
          0.9502040816326529,
          0.97
         ],
         "y": [
          280,
          280.10097855506973,
          280.20611984700383,
          280.31568669993493,
          280.4299645390071,
          280.5492638731597,
          280.67392311255213,
          280.80431177446104,
          280.9408341416101,
          281.0839334492178,
          281.23409669211196,
          281.3918601617532,
          281.5578158458244,
          281.7326188513328,
          281.9169960474308,
          282.11175616835993,
          282.31780167264037,
          282.5361427253153,
          282.7679137603044,
          283.01439319594374,
          283.27702702702703,
          283.5574572127139,
          283.8575560375994,
          284.17946796553014,
          284.52566096423016,
          284.8989898989899,
          285.3027754415475,
          285.74090311266986,
          286.21794871794873,
          286.7393387637758,
          287.3115577889447,
          287.9424194400423,
          288.641425389755,
          289.4202472042378,
          290.29338327091136,
          291.27906976744185,
          292.4005681818182,
          293.6880244088482,
          295.1812191103789,
          296.9337511190689,
          299.01960784313724,
          301.5438786565547,
          304.6610169491525,
          308.6076817558299,
          313.7658227848101,
          320.7943925233644,
          330.9360730593607,
          346.8475073313782,
          375.4098360655735,
          441.6666666666665
         ]
        },
        {
         "line": {
          "color": "orange",
          "dash": "dash",
          "width": 2
         },
         "mode": "lines",
         "name": "Lido CSM at 7.5%",
         "type": "scatter",
         "x": [
          0,
          1
         ],
         "y": [
          153,
          153
         ]
        },
        {
         "line": {
          "color": "green",
          "dash": "dash",
          "width": 2
         },
         "mode": "lines",
         "name": "Solo Staking",
         "type": "scatter",
         "x": [
          0,
          1
         ],
         "y": [
          100,
          100
         ]
        }
       ],
       "layout": {
        "height": 600,
        "legend": {
         "orientation": "h",
         "x": 0.5,
         "y": 0.97
        },
        "paper_bgcolor": "rgba(255,255,255,1)",
        "plot_bgcolor": "rgba(255,255,255,1)",
        "template": {
         "data": {
          "bar": [
           {
            "error_x": {
             "color": "#2a3f5f"
            },
            "error_y": {
             "color": "#2a3f5f"
            },
            "marker": {
             "line": {
              "color": "#E5ECF6",
              "width": 0.5
             },
             "pattern": {
              "fillmode": "overlay",
              "size": 10,
              "solidity": 0.2
             }
            },
            "type": "bar"
           }
          ],
          "barpolar": [
           {
            "marker": {
             "line": {
              "color": "#E5ECF6",
              "width": 0.5
             },
             "pattern": {
              "fillmode": "overlay",
              "size": 10,
              "solidity": 0.2
             }
            },
            "type": "barpolar"
           }
          ],
          "carpet": [
           {
            "aaxis": {
             "endlinecolor": "#2a3f5f",
             "gridcolor": "white",
             "linecolor": "white",
             "minorgridcolor": "white",
             "startlinecolor": "#2a3f5f"
            },
            "baxis": {
             "endlinecolor": "#2a3f5f",
             "gridcolor": "white",
             "linecolor": "white",
             "minorgridcolor": "white",
             "startlinecolor": "#2a3f5f"
            },
            "type": "carpet"
           }
          ],
          "choropleth": [
           {
            "colorbar": {
             "outlinewidth": 0,
             "ticks": ""
            },
            "type": "choropleth"
           }
          ],
          "contour": [
           {
            "colorbar": {
             "outlinewidth": 0,
             "ticks": ""
            },
            "colorscale": [
             [
              0,
              "#0d0887"
             ],
             [
              0.1111111111111111,
              "#46039f"
             ],
             [
              0.2222222222222222,
              "#7201a8"
             ],
             [
              0.3333333333333333,
              "#9c179e"
             ],
             [
              0.4444444444444444,
              "#bd3786"
             ],
             [
              0.5555555555555556,
              "#d8576b"
             ],
             [
              0.6666666666666666,
              "#ed7953"
             ],
             [
              0.7777777777777778,
              "#fb9f3a"
             ],
             [
              0.8888888888888888,
              "#fdca26"
             ],
             [
              1,
              "#f0f921"
             ]
            ],
            "type": "contour"
           }
          ],
          "contourcarpet": [
           {
            "colorbar": {
             "outlinewidth": 0,
             "ticks": ""
            },
            "type": "contourcarpet"
           }
          ],
          "heatmap": [
           {
            "colorbar": {
             "outlinewidth": 0,
             "ticks": ""
            },
            "colorscale": [
             [
              0,
              "#0d0887"
             ],
             [
              0.1111111111111111,
              "#46039f"
             ],
             [
              0.2222222222222222,
              "#7201a8"
             ],
             [
              0.3333333333333333,
              "#9c179e"
             ],
             [
              0.4444444444444444,
              "#bd3786"
             ],
             [
              0.5555555555555556,
              "#d8576b"
             ],
             [
              0.6666666666666666,
              "#ed7953"
             ],
             [
              0.7777777777777778,
              "#fb9f3a"
             ],
             [
              0.8888888888888888,
              "#fdca26"
             ],
             [
              1,
              "#f0f921"
             ]
            ],
            "type": "heatmap"
           }
          ],
          "heatmapgl": [
           {
            "colorbar": {
             "outlinewidth": 0,
             "ticks": ""
            },
            "colorscale": [
             [
              0,
              "#0d0887"
             ],
             [
              0.1111111111111111,
              "#46039f"
             ],
             [
              0.2222222222222222,
              "#7201a8"
             ],
             [
              0.3333333333333333,
              "#9c179e"
             ],
             [
              0.4444444444444444,
              "#bd3786"
             ],
             [
              0.5555555555555556,
              "#d8576b"
             ],
             [
              0.6666666666666666,
              "#ed7953"
             ],
             [
              0.7777777777777778,
              "#fb9f3a"
             ],
             [
              0.8888888888888888,
              "#fdca26"
             ],
             [
              1,
              "#f0f921"
             ]
            ],
            "type": "heatmapgl"
           }
          ],
          "histogram": [
           {
            "marker": {
             "pattern": {
              "fillmode": "overlay",
              "size": 10,
              "solidity": 0.2
             }
            },
            "type": "histogram"
           }
          ],
          "histogram2d": [
           {
            "colorbar": {
             "outlinewidth": 0,
             "ticks": ""
            },
            "colorscale": [
             [
              0,
              "#0d0887"
             ],
             [
              0.1111111111111111,
              "#46039f"
             ],
             [
              0.2222222222222222,
              "#7201a8"
             ],
             [
              0.3333333333333333,
              "#9c179e"
             ],
             [
              0.4444444444444444,
              "#bd3786"
             ],
             [
              0.5555555555555556,
              "#d8576b"
             ],
             [
              0.6666666666666666,
              "#ed7953"
             ],
             [
              0.7777777777777778,
              "#fb9f3a"
             ],
             [
              0.8888888888888888,
              "#fdca26"
             ],
             [
              1,
              "#f0f921"
             ]
            ],
            "type": "histogram2d"
           }
          ],
          "histogram2dcontour": [
           {
            "colorbar": {
             "outlinewidth": 0,
             "ticks": ""
            },
            "colorscale": [
             [
              0,
              "#0d0887"
             ],
             [
              0.1111111111111111,
              "#46039f"
             ],
             [
              0.2222222222222222,
              "#7201a8"
             ],
             [
              0.3333333333333333,
              "#9c179e"
             ],
             [
              0.4444444444444444,
              "#bd3786"
             ],
             [
              0.5555555555555556,
              "#d8576b"
             ],
             [
              0.6666666666666666,
              "#ed7953"
             ],
             [
              0.7777777777777778,
              "#fb9f3a"
             ],
             [
              0.8888888888888888,
              "#fdca26"
             ],
             [
              1,
              "#f0f921"
             ]
            ],
            "type": "histogram2dcontour"
           }
          ],
          "mesh3d": [
           {
            "colorbar": {
             "outlinewidth": 0,
             "ticks": ""
            },
            "type": "mesh3d"
           }
          ],
          "parcoords": [
           {
            "line": {
             "colorbar": {
              "outlinewidth": 0,
              "ticks": ""
             }
            },
            "type": "parcoords"
           }
          ],
          "pie": [
           {
            "automargin": true,
            "type": "pie"
           }
          ],
          "scatter": [
           {
            "fillpattern": {
             "fillmode": "overlay",
             "size": 10,
             "solidity": 0.2
            },
            "type": "scatter"
           }
          ],
          "scatter3d": [
           {
            "line": {
             "colorbar": {
              "outlinewidth": 0,
              "ticks": ""
             }
            },
            "marker": {
             "colorbar": {
              "outlinewidth": 0,
              "ticks": ""
             }
            },
            "type": "scatter3d"
           }
          ],
          "scattercarpet": [
           {
            "marker": {
             "colorbar": {
              "outlinewidth": 0,
              "ticks": ""
             }
            },
            "type": "scattercarpet"
           }
          ],
          "scattergeo": [
           {
            "marker": {
             "colorbar": {
              "outlinewidth": 0,
              "ticks": ""
             }
            },
            "type": "scattergeo"
           }
          ],
          "scattergl": [
           {
            "marker": {
             "colorbar": {
              "outlinewidth": 0,
              "ticks": ""
             }
            },
            "type": "scattergl"
           }
          ],
          "scattermapbox": [
           {
            "marker": {
             "colorbar": {
              "outlinewidth": 0,
              "ticks": ""
             }
            },
            "type": "scattermapbox"
           }
          ],
          "scatterpolar": [
           {
            "marker": {
             "colorbar": {
              "outlinewidth": 0,
              "ticks": ""
             }
            },
            "type": "scatterpolar"
           }
          ],
          "scatterpolargl": [
           {
            "marker": {
             "colorbar": {
              "outlinewidth": 0,
              "ticks": ""
             }
            },
            "type": "scatterpolargl"
           }
          ],
          "scatterternary": [
           {
            "marker": {
             "colorbar": {
              "outlinewidth": 0,
              "ticks": ""
             }
            },
            "type": "scatterternary"
           }
          ],
          "surface": [
           {
            "colorbar": {
             "outlinewidth": 0,
             "ticks": ""
            },
            "colorscale": [
             [
              0,
              "#0d0887"
             ],
             [
              0.1111111111111111,
              "#46039f"
             ],
             [
              0.2222222222222222,
              "#7201a8"
             ],
             [
              0.3333333333333333,
              "#9c179e"
             ],
             [
              0.4444444444444444,
              "#bd3786"
             ],
             [
              0.5555555555555556,
              "#d8576b"
             ],
             [
              0.6666666666666666,
              "#ed7953"
             ],
             [
              0.7777777777777778,
              "#fb9f3a"
             ],
             [
              0.8888888888888888,
              "#fdca26"
             ],
             [
              1,
              "#f0f921"
             ]
            ],
            "type": "surface"
           }
          ],
          "table": [
           {
            "cells": {
             "fill": {
              "color": "#EBF0F8"
             },
             "line": {
              "color": "white"
             }
            },
            "header": {
             "fill": {
              "color": "#C8D4E3"
             },
             "line": {
              "color": "white"
             }
            },
            "type": "table"
           }
          ]
         },
         "layout": {
          "annotationdefaults": {
           "arrowcolor": "#2a3f5f",
           "arrowhead": 0,
           "arrowwidth": 1
          },
          "autotypenumbers": "strict",
          "coloraxis": {
           "colorbar": {
            "outlinewidth": 0,
            "ticks": ""
           }
          },
          "colorscale": {
           "diverging": [
            [
             0,
             "#8e0152"
            ],
            [
             0.1,
             "#c51b7d"
            ],
            [
             0.2,
             "#de77ae"
            ],
            [
             0.3,
             "#f1b6da"
            ],
            [
             0.4,
             "#fde0ef"
            ],
            [
             0.5,
             "#f7f7f7"
            ],
            [
             0.6,
             "#e6f5d0"
            ],
            [
             0.7,
             "#b8e186"
            ],
            [
             0.8,
             "#7fbc41"
            ],
            [
             0.9,
             "#4d9221"
            ],
            [
             1,
             "#276419"
            ]
           ],
           "sequential": [
            [
             0,
             "#0d0887"
            ],
            [
             0.1111111111111111,
             "#46039f"
            ],
            [
             0.2222222222222222,
             "#7201a8"
            ],
            [
             0.3333333333333333,
             "#9c179e"
            ],
            [
             0.4444444444444444,
             "#bd3786"
            ],
            [
             0.5555555555555556,
             "#d8576b"
            ],
            [
             0.6666666666666666,
             "#ed7953"
            ],
            [
             0.7777777777777778,
             "#fb9f3a"
            ],
            [
             0.8888888888888888,
             "#fdca26"
            ],
            [
             1,
             "#f0f921"
            ]
           ],
           "sequentialminus": [
            [
             0,
             "#0d0887"
            ],
            [
             0.1111111111111111,
             "#46039f"
            ],
            [
             0.2222222222222222,
             "#7201a8"
            ],
            [
             0.3333333333333333,
             "#9c179e"
            ],
            [
             0.4444444444444444,
             "#bd3786"
            ],
            [
             0.5555555555555556,
             "#d8576b"
            ],
            [
             0.6666666666666666,
             "#ed7953"
            ],
            [
             0.7777777777777778,
             "#fb9f3a"
            ],
            [
             0.8888888888888888,
             "#fdca26"
            ],
            [
             1,
             "#f0f921"
            ]
           ]
          },
          "colorway": [
           "#636efa",
           "#EF553B",
           "#00cc96",
           "#ab63fa",
           "#FFA15A",
           "#19d3f3",
           "#FF6692",
           "#B6E880",
           "#FF97FF",
           "#FECB52"
          ],
          "font": {
           "color": "#2a3f5f"
          },
          "geo": {
           "bgcolor": "white",
           "lakecolor": "white",
           "landcolor": "#E5ECF6",
           "showlakes": true,
           "showland": true,
           "subunitcolor": "white"
          },
          "hoverlabel": {
           "align": "left"
          },
          "hovermode": "closest",
          "mapbox": {
           "style": "light"
          },
          "paper_bgcolor": "white",
          "plot_bgcolor": "#E5ECF6",
          "polar": {
           "angularaxis": {
            "gridcolor": "white",
            "linecolor": "white",
            "ticks": ""
           },
           "bgcolor": "#E5ECF6",
           "radialaxis": {
            "gridcolor": "white",
            "linecolor": "white",
            "ticks": ""
           }
          },
          "scene": {
           "xaxis": {
            "backgroundcolor": "#E5ECF6",
            "gridcolor": "white",
            "gridwidth": 2,
            "linecolor": "white",
            "showbackground": true,
            "ticks": "",
            "zerolinecolor": "white"
           },
           "yaxis": {
            "backgroundcolor": "#E5ECF6",
            "gridcolor": "white",
            "gridwidth": 2,
            "linecolor": "white",
            "showbackground": true,
            "ticks": "",
            "zerolinecolor": "white"
           },
           "zaxis": {
            "backgroundcolor": "#E5ECF6",
            "gridcolor": "white",
            "gridwidth": 2,
            "linecolor": "white",
            "showbackground": true,
            "ticks": "",
            "zerolinecolor": "white"
           }
          },
          "shapedefaults": {
           "line": {
            "color": "#2a3f5f"
           }
          },
          "ternary": {
           "aaxis": {
            "gridcolor": "white",
            "linecolor": "white",
            "ticks": ""
           },
           "baxis": {
            "gridcolor": "white",
            "linecolor": "white",
            "ticks": ""
           },
           "bgcolor": "#E5ECF6",
           "caxis": {
            "gridcolor": "white",
            "linecolor": "white",
            "ticks": ""
           }
          },
          "title": {
           "x": 0.05
          },
          "xaxis": {
           "automargin": true,
           "gridcolor": "white",
           "linecolor": "white",
           "ticks": "",
           "title": {
            "standoff": 15
           },
           "zerolinecolor": "white",
           "zerolinewidth": 2
          },
          "yaxis": {
           "automargin": true,
           "gridcolor": "white",
           "linecolor": "white",
           "ticks": "",
           "title": {
            "standoff": 15
           },
           "zerolinecolor": "white",
           "zerolinewidth": 2
          }
         }
        },
        "title": {
         "text": "ETH Staking Rewards with Varied Staking Ratios - 5% NRBM Commission"
        },
        "width": 800,
        "xaxis": {
         "gridcolor": "rgba(200,200,200,0.5)",
         "title": {
          "text": "Ratio of NRBM staked ETH"
         }
        },
        "yaxis": {
         "gridcolor": "rgba(200,200,200,0.5)",
         "title": {
          "text": "Total APR (%)"
         }
        }
       }
      }
     },
     "metadata": {},
     "output_type": "display_data"
    }
   ],
   "source": [
    "\n",
    "\n",
    "nrbms_commission = 5\n",
    "no_commission_dict = {16: 12, 8: 13, 4: 14, 2: 15}\n",
    "\n",
    "num_minipools_options = [2, 4, 8, 16]\n",
    "ratio_normal_staked_values = np.linspace(0, 0.97, 50)\n",
    "\n",
    "# Create the figure\n",
    "fig = go.Figure()\n",
    "\n",
    "# Add traces for each number of minipools\n",
    "for num_minipools in num_minipools_options:\n",
    "    apr_values = [calculate_apr(ratio, num_minipools, no_commission_dict, nrbms_commission) for ratio in ratio_normal_staked_values]\n",
    "    fig.add_trace(go.Scatter(\n",
    "        x=ratio_normal_staked_values,\n",
    "        y=apr_values,\n",
    "        mode='lines+markers',\n",
    "        name=f'{num_minipools} minipools',\n",
    "        line=dict(width=2)\n",
    "    ))\n",
    "\n",
    "# Add horizontal lines for Lido CSM and Solo Staking\n",
    "fig.add_trace(go.Scatter(\n",
    "    x=[0, 1], y=[153, 153], mode='lines', name='Lido CSM at 7.5%', line=dict(color='orange', width=2, dash='dash')))\n",
    "fig.add_trace(go.Scatter(\n",
    "    x=[0, 1], y=[100, 100], mode='lines', name='Solo Staking', line=dict(color='green', width=2, dash='dash')))\n",
    "\n",
    "# Update the layout for better visualization\n",
    "fig.update_layout(\n",
    "    title=f'ETH Staking Rewards with Varied Staking Ratios - {nrbms_commission}% NRBM Commission',\n",
    "    xaxis_title='Ratio of NRBM staked ETH',\n",
    "    yaxis_title='Total APR (%)',\n",
    "    legend=dict(x=0.5, y=0.97, orientation='h'),\n",
    "    width=800,\n",
    "    height=600,\n",
    "    paper_bgcolor='rgba(255,255,255,1)',\n",
    "    plot_bgcolor='rgba(255,255,255,1)',\n",
    "    xaxis=dict(gridcolor='rgba(200,200,200,0.5)'),\n",
    "    yaxis=dict(gridcolor='rgba(200,200,200,0.5)')\n",
    ")\n",
    "\n",
    "# Show the updated plot\n",
    "fig.show()"
   ]
  },
  {
   "cell_type": "code",
   "execution_count": 7,
   "metadata": {},
   "outputs": [],
   "source": [
    "# Save the plot as a JPEG file\n",
    "fig.write_image(\"no_rewards_varied_staking_ratio.jpg\")"
   ]
  },
  {
   "cell_type": "code",
   "execution_count": 6,
   "metadata": {},
   "outputs": [],
   "source": [
    "# Save the plot as an interactive HTML file\n",
    "fig.write_html(\"eth_staking_rewards_interactive.html\")"
   ]
  },
  {
   "cell_type": "code",
   "execution_count": null,
   "metadata": {},
   "outputs": [],
   "source": []
  }
 ],
 "metadata": {
  "kernelspec": {
   "display_name": ".venv",
   "language": "python",
   "name": "python3"
  },
  "language_info": {
   "codemirror_mode": {
    "name": "ipython",
    "version": 3
   },
   "file_extension": ".py",
   "mimetype": "text/x-python",
   "name": "python",
   "nbconvert_exporter": "python",
   "pygments_lexer": "ipython3",
   "version": "3.10.12"
  }
 },
 "nbformat": 4,
 "nbformat_minor": 2
}
